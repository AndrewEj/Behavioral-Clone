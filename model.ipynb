{
 "cells": [
  {
   "cell_type": "code",
   "execution_count": 1,
   "metadata": {
    "collapsed": true,
    "scrolled": true
   },
   "outputs": [],
   "source": [
    "# reading images from the file\n",
    "# visualize the data \n",
    "\n",
    "import pandas as pd \n",
    "import matplotlib.image as mpimg \n",
    "import matplotlib.pyplot as plt\n",
    "import random\n",
    "import numpy as np\n",
    "from sklearn.model_selection import train_test_split\n",
    "from sklearn.utils import shuffle\n",
    "import cv2\n",
    "\n",
    "%matplotlib inline \n",
    "\n",
    "\n",
    "#reading the cvs file and extract the data \n",
    "data_dir = './data'\n",
    "data_csv = '/driving_log.csv'\n",
    "\n",
    "file_path = data_dir+data_csv\n",
    "\n",
    "#image_path = pd.read_csv(data_dir+data_csv)\n",
    "#print(image_path.head())\n",
    "\n",
    "#train = image_path[['center','left','right','steering']]\n",
    "\n",
    "#print(X_train.head())\n",
    "#print(train.shape)\n",
    "\n",
    "#print(train.iloc[0])\n",
    "#print()\n",
    "#print(train.iloc[0].left)\n",
    "\n",
    "#print (train.as_matrix()[0][1])\n",
    "#img_p = train.iloc[0].left.strip()\n",
    "\n",
    "#img = plt.imread(data_dir+'/'+img_p)\n",
    "\n",
    "#print(img.dtype)\n",
    "#plt.imshow(img)\n",
    "\n",
    "#train and test split \n",
    "\n",
    "#X_train, X_valid = train_test_split(train, test_size=0.2, random_state=42)\n",
    "\n",
    "#print(X_train.shape)\n",
    "#print(X_valid.shape)\n",
    "#print(X_train.head())\n",
    "\n",
    "#loading the cvs files into the \n",
    "def data_load(file_path):\n",
    "    image_path = pd.read_csv(file_path)\n",
    "    train = image_path[['center','left','right','steering']]\n",
    "    data_train, data_valid = train_test_split(train,test_size=0.1, random_state=42)\n",
    "    return data_train, data_valid\n",
    "\n",
    "#get data(img, steering) from one of the cameras\n",
    "def get_img_steering(row, camera_num, steering_offset=0.2):\n",
    "    if camera_num ==0: \n",
    "        img_path = row.left.strip()\n",
    "        steering = row.steering + steering_offset\n",
    "    elif camera_num ==1:\n",
    "        img_path = row.center.strip()\n",
    "        steering = row.steering\n",
    "    else:\n",
    "        img_path = row.right.strip()\n",
    "        steering = row.steering - steering_offset\n",
    "    \n",
    "    image = plt.imread(data_dir+'/'+img_path)\n",
    "    #plt.imshow(image)\n",
    "    return image, steering \n",
    "\n",
    "#flip the image randomly \n",
    "def random_flip(image, steering):\n",
    "    r = np.random.randint(2)\n",
    "    if r ==1:\n",
    "        return np.fliplr(image), -steering\n",
    "    else:\n",
    "        return image, steering\n",
    "    \n",
    "#randomly choose the camera from a certain row \n",
    "def random_camera(row):\n",
    "    r = np.random.randint(3)\n",
    "    return get_img_steering(row, r)\n",
    "\n",
    "\n",
    "#generator for validation \n",
    "def train_generator(data_train, BATCH_SIZE):\n",
    "    num_samples = len(data_train)\n",
    "    while 1: \n",
    "        shuffle(data_train)\n",
    "        images =[]\n",
    "        steerings =[]\n",
    "        for i in range(BATCH_SIZE):\n",
    "            row = data_train.iloc[i]\n",
    "            image, steering = random_camera(row)\n",
    "            image, steering = random_flip(image, steering)\n",
    "            image = cv2.resize(image, (64,64), cv2.INTER_AREA)\n",
    "            images.append(image)\n",
    "            steerings.append(steering)\n",
    "            #print(len(images))\n",
    "            #print (steerings)\n",
    "            \n",
    "        yield np.array(images),np.array(steerings)\n",
    "\n"
   ]
  },
  {
   "cell_type": "code",
   "execution_count": 2,
   "metadata": {
    "collapsed": true
   },
   "outputs": [],
   "source": [
    "# train, and valid data prepared \n",
    "BATCH_SIZE = 128 \n",
    "\n",
    "data_train, data_valid = data_load(file_path)\n",
    "X_train = train_generator(data_train, BATCH_SIZE)\n",
    "#for i in range(4):\n",
    "#    img, steer = next(X_train)\n",
    "#    print(img.shape)\n",
    "#   # print(steer)\n",
    "#img, steering = random_camera(data_train.iloc[0])\n",
    "#plt.subplot(1,2,1)\n",
    "#plt.imshow(img)\n",
    "#img,steering = random_flip(img, steering)\n",
    "#plt.subplot(1,2,2)\n",
    "#plt.imshow(img)\n",
    "\n",
    "X_valid = train_generator(data_valid, BATCH_SIZE)"
   ]
  },
  {
   "cell_type": "code",
   "execution_count": 3,
   "metadata": {
    "collapsed": true
   },
   "outputs": [],
   "source": [
    "#debug\n",
    "#print(len(data_train))\n",
    "#print(len(data_valid))"
   ]
  },
  {
   "cell_type": "code",
   "execution_count": 4,
   "metadata": {},
   "outputs": [
    {
     "name": "stderr",
     "output_type": "stream",
     "text": [
      "Using TensorFlow backend.\n"
     ]
    }
   ],
   "source": [
    "import tensorflow as tf\n",
    "from keras.models import Sequential, Model\n",
    "from keras.layers import Dense, Dropout, Flatten \n",
    "from keras.layers import Convolution2D, MaxPooling2D\n",
    "from keras.layers import Conv2D\n",
    "from keras.layers import Lambda\n",
    "from keras.layers import Cropping2D\n",
    "import cv2\n",
    "\n",
    "#nvidia architecture\n",
    "model = Sequential()\n",
    "\n",
    "#crop the images input image 3,64,64\n",
    "#model.add(Cropping2D(cropping=((50,20),(0,0)),input_shape=(64,64,3)))\n",
    "\n",
    "#normalize the image data 3,160,320\n",
    "model.add(Lambda(lambda x: x/127.5 - 1.0,input_shape=(64,64,3)))\n",
    "\n",
    "#convolutional network 24,31,98  kernel 5x5 \n",
    "model.add(Convolution2D(24,5,5, border_mode='valid', subsample=(2,2),activation='relu'))\n",
    "\n",
    "#convolutional network 36,14,47 kernel 5x5\n",
    "model.add(Convolution2D(36,5,5, border_mode='valid', subsample=(2,2),activation='relu'))\n",
    "\n",
    "#convolutional network 48,5,22 kernel 3x3\n",
    "model.add(Convolution2D(48,3,3, border_mode='valid', subsample=(2,2),activation='relu'))\n",
    "\n",
    "#convolutional network 64,3,20 kernel 3x3\n",
    "model.add(Convolution2D(64,3,3, border_mode='valid',subsample=(1,1),activation='relu'))\n",
    "\n",
    "#convolutional network 64,1,18 kernel 3x3\n",
    "#model.add(Convolution2D(64,3,3, border_mode='valid', subsample=(1,1),activation='relu'))\n",
    "\n",
    "#Maxpooling\n",
    "model.add(MaxPooling2D(pool_size=(2,2), strides=(1,1)))\n",
    "#flatten\n",
    "model.add(Flatten())\n",
    "\n",
    "#dropout \n",
    "model.add(Dropout(0.8))\n",
    "\n",
    "#fully connected 1164\n",
    "model.add(Dense(1164))\n",
    "\n",
    "#fully connected 100\n",
    "model.add(Dense(100))\n",
    "\n",
    "#fully connected 50\n",
    "model.add(Dense(50))\n",
    "\n",
    "#fully connected 10\n",
    "model.add(Dense(10))\n",
    "\n",
    "#final ouput \n",
    "model.add(Dense(1))\n"
   ]
  },
  {
   "cell_type": "code",
   "execution_count": 5,
   "metadata": {},
   "outputs": [
    {
     "name": "stdout",
     "output_type": "stream",
     "text": [
      "Epoch 1/8\n",
      "7168/7232 [============================>.] - ETA: 0s - loss: 0.0459"
     ]
    },
    {
     "name": "stderr",
     "output_type": "stream",
     "text": [
      "/home/carnd/anaconda3/envs/carnd-term1/lib/python3.5/site-packages/keras/engine/training.py:1569: UserWarning: Epoch comprised more than `samples_per_epoch` samples, which might affect learning results. Set `samples_per_epoch` correctly to avoid this warning.\n",
      "  warnings.warn('Epoch comprised more than '\n"
     ]
    },
    {
     "name": "stdout",
     "output_type": "stream",
     "text": [
      "7296/7232 [==============================] - 16s - loss: 0.0457 - val_loss: 0.0322\n",
      "Epoch 2/8\n",
      "7296/7232 [==============================] - 14s - loss: 0.0248 - val_loss: 0.0225\n",
      "Epoch 3/8\n",
      "7296/7232 [==============================] - 14s - loss: 0.0137 - val_loss: 0.0138\n",
      "Epoch 4/8\n",
      "7296/7232 [==============================] - 14s - loss: 0.0082 - val_loss: 0.0132\n",
      "Epoch 5/8\n",
      "7296/7232 [==============================] - 14s - loss: 0.0064 - val_loss: 0.0130\n",
      "Epoch 6/8\n",
      "7296/7232 [==============================] - 15s - loss: 0.0056 - val_loss: 0.0140\n",
      "Epoch 7/8\n",
      "7296/7232 [==============================] - 14s - loss: 0.0049 - val_loss: 0.0131\n",
      "Epoch 8/8\n",
      "7296/7232 [==============================] - 14s - loss: 0.0045 - val_loss: 0.0126\n",
      "dict_keys(['val_loss', 'loss'])\n"
     ]
    },
    {
     "data": {
      "image/png": "[encoded data removed]",
      "text/plain": [
       "<matplotlib.figure.Figure at 0x7f273d207a20>"
      ]
     },
     "metadata": {},
     "output_type": "display_data"
    }
   ],
   "source": [
    "# run the model , generator data  X_train,  X_valid\n",
    "EPOCH = 8\n",
    "\n",
    "\n",
    "model.compile(loss='mse', optimizer='adam')\n",
    "history_object = model.fit_generator(X_train, samples_per_epoch = len(data_train),\n",
    "                                    validation_data = X_valid,\n",
    "                                    nb_val_samples=len(data_valid),\n",
    "                                    nb_epoch=EPOCH, \n",
    "                                    verbose =1)\n",
    "\n",
    "model.save('model.h5')\n",
    "json_string = model.to_json()\n",
    "open('my_model_architecture.json', 'w').write(json_string)\n",
    "\n",
    "print(history_object.history.keys())\n",
    "\n",
    "plt.plot(history_object.history['loss'])\n",
    "plt.plot(history_object.history['val_loss'])\n",
    "plt.title('model mean squared error loss')\n",
    "plt.ylabel('mean squared error loss')\n",
    "plt.xlabel('epoch')\n",
    "plt.legend(['training set','validation set'], loc='upper right')\n",
    "plt.show()\n",
    "\n"
   ]
  },
  {
   "cell_type": "code",
   "execution_count": null,
   "metadata": {
    "collapsed": true
   },
   "outputs": [],
   "source": []
  }
 ],
 "metadata": {
  "anaconda-cloud": {},
  "kernelspec": {
   "display_name": "Python 3",
   "language": "python",
   "name": "python3"
  },
  "language_info": {
   "codemirror_mode": {
    "name": "ipython",
    "version": 3
   },
   "file_extension": ".py",
   "mimetype": "text/x-python",
   "name": "python",
   "nbconvert_exporter": "python",
   "pygments_lexer": "ipython3",
   "version": "3.5.2"
  },
  "widgets": {
   "state": {},
   "version": "1.1.2"
  }
 },
 "nbformat": 4,
 "nbformat_minor": 2
}
